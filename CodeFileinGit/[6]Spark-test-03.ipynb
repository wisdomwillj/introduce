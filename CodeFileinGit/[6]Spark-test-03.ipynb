{
 "cells": [
  {
   "cell_type": "code",
   "execution_count": null,
   "id": "0de49c5d",
   "metadata": {},
   "outputs": [],
   "source": [
    "#!pip3 install arrow"
   ]
  },
  {
   "cell_type": "code",
   "execution_count": 7,
   "id": "bcce1d78",
   "metadata": {},
   "outputs": [
    {
     "data": {
      "text/html": [
       "<div>\n",
       "<style scoped>\n",
       "    .dataframe tbody tr th:only-of-type {\n",
       "        vertical-align: middle;\n",
       "    }\n",
       "\n",
       "    .dataframe tbody tr th {\n",
       "        vertical-align: top;\n",
       "    }\n",
       "\n",
       "    .dataframe thead th {\n",
       "        text-align: right;\n",
       "    }\n",
       "</style>\n",
       "<table border=\"1\" class=\"dataframe\">\n",
       "  <thead>\n",
       "    <tr style=\"text-align: right;\">\n",
       "      <th></th>\n",
       "      <th>High</th>\n",
       "      <th>Low</th>\n",
       "      <th>Open</th>\n",
       "      <th>Close</th>\n",
       "      <th>Volume</th>\n",
       "      <th>Adj Close</th>\n",
       "    </tr>\n",
       "    <tr>\n",
       "      <th>Date</th>\n",
       "      <th></th>\n",
       "      <th></th>\n",
       "      <th></th>\n",
       "      <th></th>\n",
       "      <th></th>\n",
       "      <th></th>\n",
       "    </tr>\n",
       "  </thead>\n",
       "  <tbody>\n",
       "    <tr>\n",
       "      <th>2021-09-03</th>\n",
       "      <td>734.000000</td>\n",
       "      <td>724.200012</td>\n",
       "      <td>732.250000</td>\n",
       "      <td>733.570007</td>\n",
       "      <td>15246100.0</td>\n",
       "      <td>733.570007</td>\n",
       "    </tr>\n",
       "    <tr>\n",
       "      <th>2021-09-07</th>\n",
       "      <td>760.200012</td>\n",
       "      <td>739.260010</td>\n",
       "      <td>740.000000</td>\n",
       "      <td>752.919983</td>\n",
       "      <td>20039800.0</td>\n",
       "      <td>752.919983</td>\n",
       "    </tr>\n",
       "    <tr>\n",
       "      <th>2021-09-08</th>\n",
       "      <td>764.450012</td>\n",
       "      <td>740.770020</td>\n",
       "      <td>761.580017</td>\n",
       "      <td>753.869995</td>\n",
       "      <td>18793000.0</td>\n",
       "      <td>753.869995</td>\n",
       "    </tr>\n",
       "    <tr>\n",
       "      <th>2021-09-09</th>\n",
       "      <td>762.099976</td>\n",
       "      <td>751.630005</td>\n",
       "      <td>753.409973</td>\n",
       "      <td>754.859985</td>\n",
       "      <td>14077700.0</td>\n",
       "      <td>754.859985</td>\n",
       "    </tr>\n",
       "    <tr>\n",
       "      <th>2021-09-10</th>\n",
       "      <td>762.609985</td>\n",
       "      <td>734.520020</td>\n",
       "      <td>759.599976</td>\n",
       "      <td>736.270020</td>\n",
       "      <td>15114300.0</td>\n",
       "      <td>736.270020</td>\n",
       "    </tr>\n",
       "  </tbody>\n",
       "</table>\n",
       "</div>"
      ],
      "text/plain": [
       "                  High         Low        Open       Close      Volume  \\\n",
       "Date                                                                     \n",
       "2021-09-03  734.000000  724.200012  732.250000  733.570007  15246100.0   \n",
       "2021-09-07  760.200012  739.260010  740.000000  752.919983  20039800.0   \n",
       "2021-09-08  764.450012  740.770020  761.580017  753.869995  18793000.0   \n",
       "2021-09-09  762.099976  751.630005  753.409973  754.859985  14077700.0   \n",
       "2021-09-10  762.609985  734.520020  759.599976  736.270020  15114300.0   \n",
       "\n",
       "             Adj Close  \n",
       "Date                    \n",
       "2021-09-03  733.570007  \n",
       "2021-09-07  752.919983  \n",
       "2021-09-08  753.869995  \n",
       "2021-09-09  754.859985  \n",
       "2021-09-10  736.270020  "
      ]
     },
     "metadata": {},
     "output_type": "display_data"
    }
   ],
   "source": [
    "from pandas_datareader import data\n",
    "import matplotlib.pyplot as plt\n",
    "import pandas as pd\n",
    "\n",
    "start_date = '2010-01-04'\n",
    "end_date = '2021-09-10'\n",
    "\n",
    "# SK 하이닉스 주식 데이터 가져오기\n",
    "data = data.DataReader('TSLA', 'yahoo', start_date, end_date)\n",
    "display(data.tail())"
   ]
  },
  {
   "cell_type": "code",
   "execution_count": 8,
   "id": "fa83192e",
   "metadata": {},
   "outputs": [],
   "source": [
    "from pyspark.sql import SparkSession\n",
    "sparkSession = SparkSession.builder.appName(\"pyspark-hdfs1\").getOrCreate()\n"
   ]
  },
  {
   "cell_type": "code",
   "execution_count": 9,
   "id": "ddb79d24",
   "metadata": {},
   "outputs": [
    {
     "name": "stdout",
     "output_type": "stream",
     "text": [
      "+------------------+------------------+------------------+------------------+---------+------------------+\n",
      "|              High|               Low|              Open|             Close|   Volume|         Adj Close|\n",
      "+------------------+------------------+------------------+------------------+---------+------------------+\n",
      "|               5.0| 3.507999897003174| 3.799999952316284|4.7779998779296875|9.38315E7|4.7779998779296875|\n",
      "| 6.084000110626221| 4.659999847412109|5.1579999923706055| 4.765999794006348|8.59355E7| 4.765999794006348|\n",
      "| 5.184000015258789| 4.053999900817871|               5.0| 4.392000198364258| 4.1094E7| 4.392000198364258|\n",
      "| 4.619999885559082| 3.742000102996826| 4.599999904632568|3.8399999141693115| 2.5699E7|3.8399999141693115|\n",
      "|               4.0|3.1659998893737793|               4.0|3.2219998836517334|3.43345E7|3.2219998836517334|\n",
      "|3.3259999752044678| 2.996000051498413|3.2799999713897705|3.1600000858306885|3.46085E7|3.1600000858306885|\n",
      "| 3.503999948501587| 3.114000082015991|3.2279999256134033| 3.492000102996826| 3.8557E7| 3.492000102996826|\n",
      "|3.5799999237060547| 3.309999942779541|3.5160000324249268|3.4800000190734863| 2.0253E7|3.4800000190734863|\n",
      "| 3.614000082015991|3.4000000953674316|3.5899999141693115|3.4100000858306885|1.10125E7|3.4100000858306885|\n",
      "|3.7279999256134033| 3.380000114440918|3.4779999256134033| 3.628000020980835|1.34005E7| 3.628000020980835|\n",
      "|  4.03000020980835| 3.552000045776367|3.5880000591278076|3.9679999351501465| 2.0976E7|3.9679999351501465|\n",
      "| 4.300000190734863| 3.799999952316284|  3.98799991607666|3.9779999256134033| 1.8699E7|3.9779999256134033|\n",
      "| 4.260000228881836| 4.010000228881836| 4.139999866485596| 4.127999782562256|1.31065E7| 4.127999782562256|\n",
      "| 4.449999809265137| 4.184000015258789|  4.27400016784668| 4.381999969482422|1.24325E7| 4.381999969482422|\n",
      "| 4.369999885559082| 4.010000228881836| 4.369999885559082| 4.059999942779541|9126500.0| 4.059999942779541|\n",
      "| 4.179999828338623|3.9000000953674316| 4.131999969482422| 4.044000148773193|6262500.0| 4.044000148773193|\n",
      "|              4.25| 4.073999881744385| 4.099999904632568| 4.199999809265137|4789000.0| 4.199999809265137|\n",
      "| 4.311999797821045| 4.211999893188477|  4.23799991607666| 4.257999897003174|3268000.0| 4.257999897003174|\n",
      "| 4.300000190734863| 4.059999942779541| 4.300000190734863| 4.190000057220459|4611000.0| 4.190000057220459|\n",
      "| 4.236000061035156| 4.052000045776367| 4.182000160217285| 4.110000133514404|3098500.0| 4.110000133514404|\n",
      "+------------------+------------------+------------------+------------------+---------+------------------+\n",
      "only showing top 20 rows\n",
      "\n"
     ]
    },
    {
     "ename": "AttributeError",
     "evalue": "'DataFrame' object has no attribute 'ss'",
     "output_type": "error",
     "traceback": [
      "\u001b[0;31m---------------------------------------------------------------------------\u001b[0m",
      "\u001b[0;31mAttributeError\u001b[0m                            Traceback (most recent call last)",
      "\u001b[0;32m<ipython-input-9-f2c77f8bd5b1>\u001b[0m in \u001b[0;36m<module>\u001b[0;34m\u001b[0m\n\u001b[1;32m     12\u001b[0m \u001b[0;34m\u001b[0m\u001b[0m\n\u001b[1;32m     13\u001b[0m \u001b[0;31m#Convert the Spark DataFrame back to a pandas DataFrame using Arrow\u001b[0m\u001b[0;34m\u001b[0m\u001b[0;34m\u001b[0m\u001b[0;34m\u001b[0m\u001b[0m\n\u001b[0;32m---> 14\u001b[0;31m \u001b[0mresult_pdf\u001b[0m \u001b[0;34m=\u001b[0m \u001b[0msdf\u001b[0m\u001b[0;34m.\u001b[0m\u001b[0mselect\u001b[0m\u001b[0;34m(\u001b[0m\u001b[0;34m\"*\"\u001b[0m\u001b[0;34m)\u001b[0m\u001b[0;34m.\u001b[0m\u001b[0mss\u001b[0m\u001b[0;34m.\u001b[0m\u001b[0mcreateDataFrame\u001b[0m\u001b[0;34m(\u001b[0m\u001b[0mpdf\u001b[0m\u001b[0;34m)\u001b[0m\u001b[0;34m\u001b[0m\u001b[0;34m\u001b[0m\u001b[0m\n\u001b[0m\u001b[1;32m     15\u001b[0m \u001b[0mread_pdf\u001b[0m\u001b[0;34m\u001b[0m\u001b[0;34m\u001b[0m\u001b[0m\n",
      "\u001b[0;32m~/spark-3.1.2/python/pyspark/sql/dataframe.py\u001b[0m in \u001b[0;36m__getattr__\u001b[0;34m(self, name)\u001b[0m\n\u001b[1;32m   1641\u001b[0m         \"\"\"\n\u001b[1;32m   1642\u001b[0m         \u001b[0;32mif\u001b[0m \u001b[0mname\u001b[0m \u001b[0;32mnot\u001b[0m \u001b[0;32min\u001b[0m \u001b[0mself\u001b[0m\u001b[0;34m.\u001b[0m\u001b[0mcolumns\u001b[0m\u001b[0;34m:\u001b[0m\u001b[0;34m\u001b[0m\u001b[0;34m\u001b[0m\u001b[0m\n\u001b[0;32m-> 1643\u001b[0;31m             raise AttributeError(\n\u001b[0m\u001b[1;32m   1644\u001b[0m                 \"'%s' object has no attribute '%s'\" % (self.__class__.__name__, name))\n\u001b[1;32m   1645\u001b[0m         \u001b[0mjc\u001b[0m \u001b[0;34m=\u001b[0m \u001b[0mself\u001b[0m\u001b[0;34m.\u001b[0m\u001b[0m_jdf\u001b[0m\u001b[0;34m.\u001b[0m\u001b[0mapply\u001b[0m\u001b[0;34m(\u001b[0m\u001b[0mname\u001b[0m\u001b[0;34m)\u001b[0m\u001b[0;34m\u001b[0m\u001b[0;34m\u001b[0m\u001b[0m\n",
      "\u001b[0;31mAttributeError\u001b[0m: 'DataFrame' object has no attribute 'ss'"
     ]
    }
   ],
   "source": [
    "import numpy as np\n",
    "import pandas as pd\n",
    "from pyspark.sql import SparkSession\n",
    "\n",
    "#Enable Arrow-based columnar data fransfers\n",
    "sparkSession.conf.set(\"spark.sql.execution.arrow.enabled\", \"true\")\n",
    "#GEnerate a pandas DataFrame\n",
    "pdf = pd.DataFrame(data)\n",
    "#Create a Spark DataFrame from a pandas DataFrame using Arrow\n",
    "sdf = sparkSession.createDataFrame(pdf)\n",
    "sdf.show()\n",
    "\n",
    "#Convert the Spark DataFrame back to a pandas DataFrame using Arrow\n",
    "result_pdf = sdf.select(\"*\").ss.createDataFrame(pdf)\n",
    "read_pdf"
   ]
  }
 ],
 "metadata": {
  "kernelspec": {
   "display_name": "Python 3",
   "language": "python",
   "name": "python3"
  },
  "language_info": {
   "codemirror_mode": {
    "name": "ipython",
    "version": 3
   },
   "file_extension": ".py",
   "mimetype": "text/x-python",
   "name": "python",
   "nbconvert_exporter": "python",
   "pygments_lexer": "ipython3",
   "version": "3.8.8"
  }
 },
 "nbformat": 4,
 "nbformat_minor": 5
}
