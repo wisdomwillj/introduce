{
 "cells": [
  {
   "cell_type": "code",
   "execution_count": 1,
   "id": "29e4bdd7",
   "metadata": {},
   "outputs": [],
   "source": [
    "# ORC TABLE"
   ]
  },
  {
   "cell_type": "code",
   "execution_count": 2,
   "id": "b9284b1d",
   "metadata": {},
   "outputs": [],
   "source": [
    "from selenium import webdriver\n",
    "driver = webdriver.Chrome('/home/hdoop/chromedriver')\n",
    "url = 'https://www.kaggle.com/saurabh00007/diabetescsv'\n",
    "driver.get(url)"
   ]
  },
  {
   "cell_type": "code",
   "execution_count": 3,
   "id": "ffb66788",
   "metadata": {},
   "outputs": [
    {
     "name": "stdout",
     "output_type": "stream",
     "text": [
      "success to download!\n"
     ]
    }
   ],
   "source": [
    "# //*[@id=\"site-content\"]/div[3]/div[2]/div[3]/div[2]/div/div[2]/div/div[1]/div[2]/i\n",
    "driver.find_element_by_xpath('//*[@id=\"site-content\"]/div[3]/div[2]/div[3]/div[2]/div/div[2]/div/div[1]/div[2]/i').click()\n",
    "import time\n",
    "time.sleep(2)\n",
    "print(\"success to download!\")"
   ]
  },
  {
   "cell_type": "code",
   "execution_count": 13,
   "id": "84b8ac18",
   "metadata": {},
   "outputs": [
    {
     "data": {
      "text/plain": [
       "Index(['Pregnancies', 'Glucose', 'BloodPressure', 'SkinThickness', 'Insulin',\n",
       "       'BMI', 'DiabetesPedigreeFunction', 'Age', 'Outcome'],\n",
       "      dtype='object')"
      ]
     },
     "execution_count": 13,
     "metadata": {},
     "output_type": "execute_result"
    }
   ],
   "source": [
    "import pandas as pd\n",
    "with open('/home/hdoop/Downloads/diabetes.csv', mode = 'r') as reader:\n",
    "    df = pd.read_csv(reader)\n",
    "#print(df.tail())\n",
    "df.columns"
   ]
  },
  {
   "cell_type": "code",
   "execution_count": 11,
   "id": "5940b6d8",
   "metadata": {},
   "outputs": [
    {
     "name": "stdout",
     "output_type": "stream",
     "text": [
      "diabets table building success!\n"
     ]
    }
   ],
   "source": [
    "from pyhive import hive \n",
    "conn = hive.Connection(host=\"localhost\", port=10000, username=\"hdoop\")\n",
    "cursor = conn.cursor()\n",
    "cursor.execute('use userdb')\n",
    "\n",
    "hql = \"\"\"CREATE EXTERNAL TABLE IF NOT EXISTS diabets( \n",
    "Pregnancies int, Glucose int, SkinThicknes int, Insulin int, BMI float, \n",
    "DiabetesPedigreeFunction float, Age int, Outcome int)\n",
    "COMMENT 'diabets data'\n",
    "ROW FORMAT DELIMITED\n",
    "FIELDS TERMINATED BY ','\n",
    "LINES TERMINATED BY '\\n'\n",
    "STORED AS ORC\n",
    "TBLPROPERTIES ('NO_AUTO_COMPACTION'='true')\"\"\"\n",
    "\n",
    "cursor.execute(hql)\n",
    "print('diabets table building success!')"
   ]
  },
  {
   "cell_type": "code",
   "execution_count": null,
   "id": "e2c19266",
   "metadata": {},
   "outputs": [],
   "source": [
    "CREATE TABLE IF NOT EXISTS mdiabets( \n",
    "Pregnancies int, Glucose int, SkinThicknes int, Insulin int, BMI float, \n",
    "DiabetesPedigreeFunction float, Age int, Outcome int)\n",
    "COMMENT 'mydiabets data'\n",
    "ROW FORMAT DELIMITED\n",
    "FIELDS TERMINATED BY ','\n",
    "LINES TERMINATED BY '\\n'\n",
    "STORED AS ORC\n",
    "TBLPROPERTIES ('NO_AUTO_COMPACTION'='true')"
   ]
  },
  {
   "cell_type": "code",
   "execution_count": 12,
   "id": "b0e694a3",
   "metadata": {},
   "outputs": [
    {
     "name": "stdout",
     "output_type": "stream",
     "text": [
      "SUCCESS TO upload to HDFS\n"
     ]
    }
   ],
   "source": [
    "from pyhive import hive\n",
    "import sys\n",
    "\n",
    "conn = hive.Connection(host=\"localhost\", port=10000, username=\"hdoop\")\n",
    "cursor = conn.cursor()\n",
    "hql = \"LOAD DATA LOCAL INPATH '/home/hdoop/Downloads/diabetes.csv' OVERWRITE INTO TABLE userdb.diabets\"\n",
    "cursor.execute(hql)\n",
    "print(\"SUCCESS TO upload to HDFS\")"
   ]
  },
  {
   "cell_type": "code",
   "execution_count": null,
   "id": "869522c6",
   "metadata": {},
   "outputs": [],
   "source": []
  }
 ],
 "metadata": {
  "kernelspec": {
   "display_name": "Python 3",
   "language": "python",
   "name": "python3"
  },
  "language_info": {
   "codemirror_mode": {
    "name": "ipython",
    "version": 3
   },
   "file_extension": ".py",
   "mimetype": "text/x-python",
   "name": "python",
   "nbconvert_exporter": "python",
   "pygments_lexer": "ipython3",
   "version": "3.8.8"
  }
 },
 "nbformat": 4,
 "nbformat_minor": 5
}
